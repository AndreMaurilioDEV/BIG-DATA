{
  "cells": [
    {
      "cell_type": "markdown",
      "metadata": {
        "id": "-kFGa5-nqQ4e"
      },
      "source": [
        "### Objetivo: Consumir API\n",
        "\n",
        "Acessando a url https://dadosabertos.bcb.gov.br/dataset/estatisticas-meios-pagamentos vocês terão acesso aos dados fornecidos pelo banco central sobre meios de pagamentos.\n",
        "Vocês podem consultar a API para obter a url para requisição dos dados.\n",
        "\n",
        "\n",
        "Determine a url fornecida:"
      ]
    },
    {
      "cell_type": "code",
      "execution_count": 1,
      "metadata": {
        "id": "cYiw6ED5qQ4h"
      },
      "outputs": [],
      "source": [
        "url = \"https://olinda.bcb.gov.br/olinda/servico/Pix_DadosAbertos/versao/v1/odata/TransacoesPixPorMunicipio(DataBase=@DataBase)?@DataBase='202301'&$top=100&$format=json&$select=AnoMes,Municipio_Ibge,Municipio,Estado_Ibge,Estado,Sigla_Regiao,Regiao,VL_PagadorPF,QT_PagadorPF,VL_PagadorPJ,QT_PagadorPJ,VL_RecebedorPF,QT_RecebedorPF,VL_RecebedorPJ,QT_RecebedorPJ,QT_PES_PagadorPF,QT_PES_PagadorPJ,QT_PES_RecebedorPF,QT_PES_RecebedorPJ\""
      ]
    },
    {
      "cell_type": "markdown",
      "metadata": {
        "id": "8BJ7k322qQ4i"
      },
      "source": [
        "Importar bibliotecas"
      ]
    },
    {
      "cell_type": "code",
      "execution_count": 2,
      "metadata": {
        "id": "ePWwGPEHqQ4i"
      },
      "outputs": [],
      "source": [
        "import pandas as pd  #possibilita manipulação e análise de dados\n",
        "import requests  #possibilita integração com serviços web, solicitações HTTP consumir dados de APIs\n",
        "import json  #manipular arquivo json"
      ]
    },
    {
      "cell_type": "markdown",
      "metadata": {
        "id": "r-g4xJd4qQ4j"
      },
      "source": [
        "Criar uma função para obter os dados:"
      ]
    },
    {
      "cell_type": "code",
      "execution_count": 3,
      "metadata": {
        "id": "EyOi0-LUqQ4j"
      },
      "outputs": [],
      "source": [
        "\n",
        "def requisicao_api(link):\n",
        "  resposta = requests.get(link)\n",
        "\n",
        "  if resposta.status_code == 200:      #sucesso na requisição\n",
        "    dados = resposta.json()\n",
        "    print('Status Code:', resposta.status_code)\n",
        "    with open('resultado.json', 'w', encoding='utf-8') as arquivo:   #salvar arquivo json\n",
        "      json.dump(dados, arquivo, ensure_ascii=False, indent=4)\n",
        "\n",
        "  else:\n",
        "    print('Status Code:', resposta.status_code)\n"
      ]
    },
    {
      "cell_type": "markdown",
      "metadata": {
        "id": "TFo1EAwI2t9C"
      },
      "source": [
        "Chamar função passando o link gerado pela interface da API"
      ]
    },
    {
      "cell_type": "code",
      "execution_count": 4,
      "metadata": {
        "colab": {
          "base_uri": "https://localhost:8080/"
        },
        "id": "gIwLweDatOkM",
        "outputId": "13099c5e-85c3-46eb-f293-82cc783501fc"
      },
      "outputs": [
        {
          "name": "stdout",
          "output_type": "stream",
          "text": [
            "Status Code: 200\n"
          ]
        }
      ],
      "source": [
        "requisicao_api(url)"
      ]
    },
    {
      "cell_type": "markdown",
      "metadata": {
        "id": "EReT3g18qQ4j"
      },
      "source": [
        "Convertendo em DataFrame"
      ]
    },
    {
      "cell_type": "code",
      "execution_count": 5,
      "metadata": {
        "id": "meT0oRcsqQ4j"
      },
      "outputs": [],
      "source": [
        "jsondata = pd.read_json('resultado.json')"
      ]
    },
    {
      "cell_type": "code",
      "execution_count": 6,
      "metadata": {
        "colab": {
          "base_uri": "https://localhost:8080/",
          "height": 1000
        },
        "id": "40ylowwB6jTr",
        "outputId": "58fbc55c-8cb4-4cb1-cccd-8ab01b6475b1"
      },
      "outputs": [
        {
          "data": {
            "text/html": [
              "<div>\n",
              "<style scoped>\n",
              "    .dataframe tbody tr th:only-of-type {\n",
              "        vertical-align: middle;\n",
              "    }\n",
              "\n",
              "    .dataframe tbody tr th {\n",
              "        vertical-align: top;\n",
              "    }\n",
              "\n",
              "    .dataframe thead th {\n",
              "        text-align: right;\n",
              "    }\n",
              "</style>\n",
              "<table border=\"1\" class=\"dataframe\">\n",
              "  <thead>\n",
              "    <tr style=\"text-align: right;\">\n",
              "      <th></th>\n",
              "      <th>@odata.context</th>\n",
              "      <th>value</th>\n",
              "    </tr>\n",
              "  </thead>\n",
              "  <tbody>\n",
              "    <tr>\n",
              "      <th>0</th>\n",
              "      <td>https://was-p.bcnet.bcb.gov.br/olinda/servico/...</td>\n",
              "      <td>{'AnoMes': 202309, 'Municipio_Ibge': 2106375, ...</td>\n",
              "    </tr>\n",
              "    <tr>\n",
              "      <th>1</th>\n",
              "      <td>https://was-p.bcnet.bcb.gov.br/olinda/servico/...</td>\n",
              "      <td>{'AnoMes': 202301, 'Municipio_Ibge': 5201207, ...</td>\n",
              "    </tr>\n",
              "    <tr>\n",
              "      <th>2</th>\n",
              "      <td>https://was-p.bcnet.bcb.gov.br/olinda/servico/...</td>\n",
              "      <td>{'AnoMes': 202403, 'Municipio_Ibge': 2600401, ...</td>\n",
              "    </tr>\n",
              "    <tr>\n",
              "      <th>3</th>\n",
              "      <td>https://was-p.bcnet.bcb.gov.br/olinda/servico/...</td>\n",
              "      <td>{'AnoMes': 202505, 'Municipio_Ibge': 5218706, ...</td>\n",
              "    </tr>\n",
              "    <tr>\n",
              "      <th>4</th>\n",
              "      <td>https://was-p.bcnet.bcb.gov.br/olinda/servico/...</td>\n",
              "      <td>{'AnoMes': 202508, 'Municipio_Ibge': 3508207, ...</td>\n",
              "    </tr>\n",
              "    <tr>\n",
              "      <th>...</th>\n",
              "      <td>...</td>\n",
              "      <td>...</td>\n",
              "    </tr>\n",
              "    <tr>\n",
              "      <th>95</th>\n",
              "      <td>https://was-p.bcnet.bcb.gov.br/olinda/servico/...</td>\n",
              "      <td>{'AnoMes': 202412, 'Municipio_Ibge': 2516805, ...</td>\n",
              "    </tr>\n",
              "    <tr>\n",
              "      <th>96</th>\n",
              "      <td>https://was-p.bcnet.bcb.gov.br/olinda/servico/...</td>\n",
              "      <td>{'AnoMes': 202402, 'Municipio_Ibge': 2110005, ...</td>\n",
              "    </tr>\n",
              "    <tr>\n",
              "      <th>97</th>\n",
              "      <td>https://was-p.bcnet.bcb.gov.br/olinda/servico/...</td>\n",
              "      <td>{'AnoMes': 202404, 'Municipio_Ibge': 3119609, ...</td>\n",
              "    </tr>\n",
              "    <tr>\n",
              "      <th>98</th>\n",
              "      <td>https://was-p.bcnet.bcb.gov.br/olinda/servico/...</td>\n",
              "      <td>{'AnoMes': 202406, 'Municipio_Ibge': 4204608, ...</td>\n",
              "    </tr>\n",
              "    <tr>\n",
              "      <th>99</th>\n",
              "      <td>https://was-p.bcnet.bcb.gov.br/olinda/servico/...</td>\n",
              "      <td>{'AnoMes': 202305, 'Municipio_Ibge': 3122504, ...</td>\n",
              "    </tr>\n",
              "  </tbody>\n",
              "</table>\n",
              "<p>100 rows × 2 columns</p>\n",
              "</div>"
            ],
            "text/plain": [
              "                                       @odata.context  \\\n",
              "0   https://was-p.bcnet.bcb.gov.br/olinda/servico/...   \n",
              "1   https://was-p.bcnet.bcb.gov.br/olinda/servico/...   \n",
              "2   https://was-p.bcnet.bcb.gov.br/olinda/servico/...   \n",
              "3   https://was-p.bcnet.bcb.gov.br/olinda/servico/...   \n",
              "4   https://was-p.bcnet.bcb.gov.br/olinda/servico/...   \n",
              "..                                                ...   \n",
              "95  https://was-p.bcnet.bcb.gov.br/olinda/servico/...   \n",
              "96  https://was-p.bcnet.bcb.gov.br/olinda/servico/...   \n",
              "97  https://was-p.bcnet.bcb.gov.br/olinda/servico/...   \n",
              "98  https://was-p.bcnet.bcb.gov.br/olinda/servico/...   \n",
              "99  https://was-p.bcnet.bcb.gov.br/olinda/servico/...   \n",
              "\n",
              "                                                value  \n",
              "0   {'AnoMes': 202309, 'Municipio_Ibge': 2106375, ...  \n",
              "1   {'AnoMes': 202301, 'Municipio_Ibge': 5201207, ...  \n",
              "2   {'AnoMes': 202403, 'Municipio_Ibge': 2600401, ...  \n",
              "3   {'AnoMes': 202505, 'Municipio_Ibge': 5218706, ...  \n",
              "4   {'AnoMes': 202508, 'Municipio_Ibge': 3508207, ...  \n",
              "..                                                ...  \n",
              "95  {'AnoMes': 202412, 'Municipio_Ibge': 2516805, ...  \n",
              "96  {'AnoMes': 202402, 'Municipio_Ibge': 2110005, ...  \n",
              "97  {'AnoMes': 202404, 'Municipio_Ibge': 3119609, ...  \n",
              "98  {'AnoMes': 202406, 'Municipio_Ibge': 4204608, ...  \n",
              "99  {'AnoMes': 202305, 'Municipio_Ibge': 3122504, ...  \n",
              "\n",
              "[100 rows x 2 columns]"
            ]
          },
          "execution_count": 6,
          "metadata": {},
          "output_type": "execute_result"
        }
      ],
      "source": [
        "jsondata"
      ]
    },
    {
      "cell_type": "code",
      "execution_count": 7,
      "metadata": {
        "id": "0auyOcQ3xKzU"
      },
      "outputs": [],
      "source": [
        "data = jsondata['value']"
      ]
    },
    {
      "cell_type": "markdown",
      "metadata": {
        "id": "Tpv3kfXDBGCl"
      },
      "source": [
        "\n",
        "\n",
        "```\n",
        "data = [\n",
        "    {\"id\": 1, \"nome\": \"Maria\", \"endereco\": {\"cidade\": \"SP\", \"rua\": \"Paulista\"}},\n",
        "    {\"id\": 2, \"nome\": \"João\", \"endereco\": {\"cidade\": \"RJ\", \"rua\": \"Copacabana\"}}\n",
        "]\n",
        "\n",
        "dados_df = pd.json_normalize(data)\n",
        "```\n",
        "\n",
        "id    |    nome     |   endereco.cidade     |     endereco.rua\n",
        "\n",
        "1 | Maria    |          SP   |  Paulista\n",
        "\n",
        "2  | João       |       RJ  | Copacabana"
      ]
    },
    {
      "cell_type": "code",
      "execution_count": 8,
      "metadata": {
        "id": "RB8qg76KBlWH"
      },
      "outputs": [],
      "source": [
        "dados_df = pd.json_normalize(data)"
      ]
    },
    {
      "cell_type": "markdown",
      "metadata": {
        "id": "AKKhUeGe27n3"
      },
      "source": [
        "Exibindo os primeiros valores do Dataframe"
      ]
    },
    {
      "cell_type": "code",
      "execution_count": 9,
      "metadata": {
        "colab": {
          "base_uri": "https://localhost:8080/",
          "height": 206
        },
        "id": "P3fupEO53AQ0",
        "outputId": "542e25d1-0856-4a8a-c4e3-10b0909a01f5"
      },
      "outputs": [
        {
          "data": {
            "text/html": [
              "<div>\n",
              "<style scoped>\n",
              "    .dataframe tbody tr th:only-of-type {\n",
              "        vertical-align: middle;\n",
              "    }\n",
              "\n",
              "    .dataframe tbody tr th {\n",
              "        vertical-align: top;\n",
              "    }\n",
              "\n",
              "    .dataframe thead th {\n",
              "        text-align: right;\n",
              "    }\n",
              "</style>\n",
              "<table border=\"1\" class=\"dataframe\">\n",
              "  <thead>\n",
              "    <tr style=\"text-align: right;\">\n",
              "      <th></th>\n",
              "      <th>AnoMes</th>\n",
              "      <th>Municipio_Ibge</th>\n",
              "      <th>Municipio</th>\n",
              "      <th>Estado_Ibge</th>\n",
              "      <th>Estado</th>\n",
              "      <th>Sigla_Regiao</th>\n",
              "      <th>Regiao</th>\n",
              "      <th>VL_PagadorPF</th>\n",
              "      <th>QT_PagadorPF</th>\n",
              "      <th>VL_PagadorPJ</th>\n",
              "      <th>QT_PagadorPJ</th>\n",
              "      <th>VL_RecebedorPF</th>\n",
              "      <th>QT_RecebedorPF</th>\n",
              "      <th>VL_RecebedorPJ</th>\n",
              "      <th>QT_RecebedorPJ</th>\n",
              "      <th>QT_PES_PagadorPF</th>\n",
              "      <th>QT_PES_PagadorPJ</th>\n",
              "      <th>QT_PES_RecebedorPF</th>\n",
              "      <th>QT_PES_RecebedorPJ</th>\n",
              "    </tr>\n",
              "  </thead>\n",
              "  <tbody>\n",
              "    <tr>\n",
              "      <th>0</th>\n",
              "      <td>202309</td>\n",
              "      <td>2106375</td>\n",
              "      <td>MARANHÃOZINHO</td>\n",
              "      <td>21</td>\n",
              "      <td>MARANHÃO</td>\n",
              "      <td>NE</td>\n",
              "      <td>NORDESTE</td>\n",
              "      <td>14629089.96</td>\n",
              "      <td>118012</td>\n",
              "      <td>2594844.90</td>\n",
              "      <td>3523</td>\n",
              "      <td>13878844.64</td>\n",
              "      <td>76758</td>\n",
              "      <td>1873092.67</td>\n",
              "      <td>11226</td>\n",
              "      <td>4065</td>\n",
              "      <td>93</td>\n",
              "      <td>3987</td>\n",
              "      <td>81</td>\n",
              "    </tr>\n",
              "    <tr>\n",
              "      <th>1</th>\n",
              "      <td>202301</td>\n",
              "      <td>5201207</td>\n",
              "      <td>ANHANGUERA</td>\n",
              "      <td>52</td>\n",
              "      <td>GOIÁS</td>\n",
              "      <td>CO</td>\n",
              "      <td>CENTRO-OESTE</td>\n",
              "      <td>1729842.79</td>\n",
              "      <td>6896</td>\n",
              "      <td>143895.15</td>\n",
              "      <td>230</td>\n",
              "      <td>1502395.22</td>\n",
              "      <td>5470</td>\n",
              "      <td>183866.78</td>\n",
              "      <td>426</td>\n",
              "      <td>451</td>\n",
              "      <td>19</td>\n",
              "      <td>423</td>\n",
              "      <td>19</td>\n",
              "    </tr>\n",
              "    <tr>\n",
              "      <th>2</th>\n",
              "      <td>202403</td>\n",
              "      <td>2600401</td>\n",
              "      <td>ÁGUA PRETA</td>\n",
              "      <td>26</td>\n",
              "      <td>PERNAMBUCO</td>\n",
              "      <td>NE</td>\n",
              "      <td>NORDESTE</td>\n",
              "      <td>48179196.53</td>\n",
              "      <td>420710</td>\n",
              "      <td>2947855.85</td>\n",
              "      <td>5203</td>\n",
              "      <td>46550194.33</td>\n",
              "      <td>277298</td>\n",
              "      <td>4060368.77</td>\n",
              "      <td>19013</td>\n",
              "      <td>12971</td>\n",
              "      <td>190</td>\n",
              "      <td>13195</td>\n",
              "      <td>171</td>\n",
              "    </tr>\n",
              "    <tr>\n",
              "      <th>3</th>\n",
              "      <td>202505</td>\n",
              "      <td>5218706</td>\n",
              "      <td>RIANÁPOLIS</td>\n",
              "      <td>52</td>\n",
              "      <td>GOIÁS</td>\n",
              "      <td>CO</td>\n",
              "      <td>CENTRO-OESTE</td>\n",
              "      <td>26642023.68</td>\n",
              "      <td>103195</td>\n",
              "      <td>6572385.12</td>\n",
              "      <td>6349</td>\n",
              "      <td>27395887.69</td>\n",
              "      <td>68435</td>\n",
              "      <td>8970241.36</td>\n",
              "      <td>18617</td>\n",
              "      <td>2730</td>\n",
              "      <td>192</td>\n",
              "      <td>2738</td>\n",
              "      <td>186</td>\n",
              "    </tr>\n",
              "    <tr>\n",
              "      <th>4</th>\n",
              "      <td>202508</td>\n",
              "      <td>3508207</td>\n",
              "      <td>BURITIZAL</td>\n",
              "      <td>35</td>\n",
              "      <td>SÃO PAULO</td>\n",
              "      <td>SE</td>\n",
              "      <td>SUDESTE</td>\n",
              "      <td>19822088.83</td>\n",
              "      <td>70344</td>\n",
              "      <td>13287940.05</td>\n",
              "      <td>8193</td>\n",
              "      <td>28889580.60</td>\n",
              "      <td>35961</td>\n",
              "      <td>14844459.88</td>\n",
              "      <td>19439</td>\n",
              "      <td>2587</td>\n",
              "      <td>276</td>\n",
              "      <td>2482</td>\n",
              "      <td>256</td>\n",
              "    </tr>\n",
              "  </tbody>\n",
              "</table>\n",
              "</div>"
            ],
            "text/plain": [
              "   AnoMes  Municipio_Ibge      Municipio  Estado_Ibge      Estado  \\\n",
              "0  202309         2106375  MARANHÃOZINHO           21    MARANHÃO   \n",
              "1  202301         5201207     ANHANGUERA           52       GOIÁS   \n",
              "2  202403         2600401     ÁGUA PRETA           26  PERNAMBUCO   \n",
              "3  202505         5218706     RIANÁPOLIS           52       GOIÁS   \n",
              "4  202508         3508207      BURITIZAL           35   SÃO PAULO   \n",
              "\n",
              "  Sigla_Regiao        Regiao  VL_PagadorPF  QT_PagadorPF  VL_PagadorPJ  \\\n",
              "0           NE      NORDESTE   14629089.96        118012    2594844.90   \n",
              "1           CO  CENTRO-OESTE    1729842.79          6896     143895.15   \n",
              "2           NE      NORDESTE   48179196.53        420710    2947855.85   \n",
              "3           CO  CENTRO-OESTE   26642023.68        103195    6572385.12   \n",
              "4           SE       SUDESTE   19822088.83         70344   13287940.05   \n",
              "\n",
              "   QT_PagadorPJ  VL_RecebedorPF  QT_RecebedorPF  VL_RecebedorPJ  \\\n",
              "0          3523     13878844.64           76758      1873092.67   \n",
              "1           230      1502395.22            5470       183866.78   \n",
              "2          5203     46550194.33          277298      4060368.77   \n",
              "3          6349     27395887.69           68435      8970241.36   \n",
              "4          8193     28889580.60           35961     14844459.88   \n",
              "\n",
              "   QT_RecebedorPJ  QT_PES_PagadorPF  QT_PES_PagadorPJ  QT_PES_RecebedorPF  \\\n",
              "0           11226              4065                93                3987   \n",
              "1             426               451                19                 423   \n",
              "2           19013             12971               190               13195   \n",
              "3           18617              2730               192                2738   \n",
              "4           19439              2587               276                2482   \n",
              "\n",
              "   QT_PES_RecebedorPJ  \n",
              "0                  81  \n",
              "1                  19  \n",
              "2                 171  \n",
              "3                 186  \n",
              "4                 256  "
            ]
          },
          "execution_count": 9,
          "metadata": {},
          "output_type": "execute_result"
        }
      ],
      "source": [
        "dados_df.head()"
      ]
    },
    {
      "cell_type": "code",
      "execution_count": 10,
      "metadata": {},
      "outputs": [],
      "source": [
        "dados_df.to_csv(\"dados/pix_municipio.csv\", index=False, encoding=\"utf-8\")"
      ]
    }
  ],
  "metadata": {
    "colab": {
      "provenance": []
    },
    "kernelspec": {
      "display_name": ".venv",
      "language": "python",
      "name": "python3"
    },
    "language_info": {
      "codemirror_mode": {
        "name": "ipython",
        "version": 3
      },
      "file_extension": ".py",
      "mimetype": "text/x-python",
      "name": "python",
      "nbconvert_exporter": "python",
      "pygments_lexer": "ipython3",
      "version": "3.12.10"
    }
  },
  "nbformat": 4,
  "nbformat_minor": 0
}
