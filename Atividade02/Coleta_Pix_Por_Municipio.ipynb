{
  "cells": [
    {
      "cell_type": "markdown",
      "metadata": {
        "id": "-kFGa5-nqQ4e"
      },
      "source": [
        "### Objetivo: Consumir API\n",
        "\n",
        "Acessando a url https://dadosabertos.bcb.gov.br/dataset/estatisticas-meios-pagamentos vocês terão acesso aos dados fornecidos pelo banco central sobre meios de pagamentos.\n",
        "Vocês podem consultar a API para obter a url para requisição dos dados.\n",
        "\n",
        "\n",
        "Determine a url fornecida:"
      ]
    },
    {
      "cell_type": "code",
      "execution_count": 1,
      "metadata": {
        "id": "cYiw6ED5qQ4h"
      },
      "outputs": [],
      "source": [
        "url = \"https://olinda.bcb.gov.br/olinda/servico/Pix_DadosAbertos/versao/v1/odata/TransacoesPixPorMunicipio(DataBase=@DataBase)?@DataBase='202301'&$top=100&$format=json&$select=AnoMes,Municipio_Ibge,Municipio,Estado_Ibge,Estado,Sigla_Regiao,Regiao,VL_PagadorPF,QT_PagadorPF,VL_PagadorPJ,QT_PagadorPJ,VL_RecebedorPF,QT_RecebedorPF,VL_RecebedorPJ,QT_RecebedorPJ,QT_PES_PagadorPF,QT_PES_PagadorPJ,QT_PES_RecebedorPF,QT_PES_RecebedorPJ\""
      ]
    },
    {
      "cell_type": "markdown",
      "metadata": {
        "id": "8BJ7k322qQ4i"
      },
      "source": [
        "Importar bibliotecas"
      ]
    },
    {
      "cell_type": "code",
      "execution_count": 2,
      "metadata": {
        "id": "ePWwGPEHqQ4i"
      },
      "outputs": [],
      "source": [
        "import pandas as pd  #possibilita manipulação e análise de dados\n",
        "import requests  #possibilita integração com serviços web, solicitações HTTP consumir dados de APIs\n",
        "import json  #manipular arquivo json"
      ]
    },
    {
      "cell_type": "markdown",
      "metadata": {
        "id": "r-g4xJd4qQ4j"
      },
      "source": [
        "Criar uma função para obter os dados:"
      ]
    },
    {
      "cell_type": "code",
      "execution_count": 3,
      "metadata": {
        "id": "EyOi0-LUqQ4j"
      },
      "outputs": [],
      "source": [
        "\n",
        "def requisicao_api(link):\n",
        "  resposta = requests.get(link)\n",
        "\n",
        "  if resposta.status_code == 200:      #sucesso na requisição\n",
        "    dados = resposta.json()\n",
        "    print('Status Code:', resposta.status_code)\n",
        "    with open('resultado.json', 'w', encoding='utf-8') as arquivo:   #salvar arquivo json\n",
        "      json.dump(dados, arquivo, ensure_ascii=False, indent=4)\n",
        "\n",
        "  else:\n",
        "    print('Status Code:', resposta.status_code)\n"
      ]
    },
    {
      "cell_type": "markdown",
      "metadata": {
        "id": "TFo1EAwI2t9C"
      },
      "source": [
        "Chamar função passando o link gerado pela interface da API"
      ]
    },
    {
      "cell_type": "code",
      "execution_count": 4,
      "metadata": {
        "colab": {
          "base_uri": "https://localhost:8080/"
        },
        "id": "gIwLweDatOkM",
        "outputId": "13099c5e-85c3-46eb-f293-82cc783501fc"
      },
      "outputs": [
        {
          "name": "stdout",
          "output_type": "stream",
          "text": [
            "Status Code: 200\n"
          ]
        }
      ],
      "source": [
        "requisicao_api(url)"
      ]
    },
    {
      "cell_type": "markdown",
      "metadata": {
        "id": "EReT3g18qQ4j"
      },
      "source": [
        "Convertendo em DataFrame"
      ]
    },
    {
      "cell_type": "code",
      "execution_count": 5,
      "metadata": {
        "id": "meT0oRcsqQ4j"
      },
      "outputs": [],
      "source": [
        "jsondata = pd.read_json('resultado.json')"
      ]
    },
    {
      "cell_type": "code",
      "execution_count": 6,
      "metadata": {
        "colab": {
          "base_uri": "https://localhost:8080/",
          "height": 1000
        },
        "id": "40ylowwB6jTr",
        "outputId": "58fbc55c-8cb4-4cb1-cccd-8ab01b6475b1"
      },
      "outputs": [
        {
          "data": {
            "text/html": [
              "<div>\n",
              "<style scoped>\n",
              "    .dataframe tbody tr th:only-of-type {\n",
              "        vertical-align: middle;\n",
              "    }\n",
              "\n",
              "    .dataframe tbody tr th {\n",
              "        vertical-align: top;\n",
              "    }\n",
              "\n",
              "    .dataframe thead th {\n",
              "        text-align: right;\n",
              "    }\n",
              "</style>\n",
              "<table border=\"1\" class=\"dataframe\">\n",
              "  <thead>\n",
              "    <tr style=\"text-align: right;\">\n",
              "      <th></th>\n",
              "      <th>@odata.context</th>\n",
              "      <th>value</th>\n",
              "    </tr>\n",
              "  </thead>\n",
              "  <tbody>\n",
              "    <tr>\n",
              "      <th>0</th>\n",
              "      <td>https://was-p.bcnet.bcb.gov.br/olinda/servico/...</td>\n",
              "      <td>{'AnoMes': 202307, 'Municipio_Ibge': 2106375, ...</td>\n",
              "    </tr>\n",
              "    <tr>\n",
              "      <th>1</th>\n",
              "      <td>https://was-p.bcnet.bcb.gov.br/olinda/servico/...</td>\n",
              "      <td>{'AnoMes': 202401, 'Municipio_Ibge': 5201207, ...</td>\n",
              "    </tr>\n",
              "    <tr>\n",
              "      <th>2</th>\n",
              "      <td>https://was-p.bcnet.bcb.gov.br/olinda/servico/...</td>\n",
              "      <td>{'AnoMes': 202401, 'Municipio_Ibge': 2600401, ...</td>\n",
              "    </tr>\n",
              "    <tr>\n",
              "      <th>3</th>\n",
              "      <td>https://was-p.bcnet.bcb.gov.br/olinda/servico/...</td>\n",
              "      <td>{'AnoMes': 202412, 'Municipio_Ibge': 5218706, ...</td>\n",
              "    </tr>\n",
              "    <tr>\n",
              "      <th>4</th>\n",
              "      <td>https://was-p.bcnet.bcb.gov.br/olinda/servico/...</td>\n",
              "      <td>{'AnoMes': 202309, 'Municipio_Ibge': 3508207, ...</td>\n",
              "    </tr>\n",
              "    <tr>\n",
              "      <th>...</th>\n",
              "      <td>...</td>\n",
              "      <td>...</td>\n",
              "    </tr>\n",
              "    <tr>\n",
              "      <th>95</th>\n",
              "      <td>https://was-p.bcnet.bcb.gov.br/olinda/servico/...</td>\n",
              "      <td>{'AnoMes': 202303, 'Municipio_Ibge': 2516805, ...</td>\n",
              "    </tr>\n",
              "    <tr>\n",
              "      <th>96</th>\n",
              "      <td>https://was-p.bcnet.bcb.gov.br/olinda/servico/...</td>\n",
              "      <td>{'AnoMes': 202509, 'Municipio_Ibge': 2110005, ...</td>\n",
              "    </tr>\n",
              "    <tr>\n",
              "      <th>97</th>\n",
              "      <td>https://was-p.bcnet.bcb.gov.br/olinda/servico/...</td>\n",
              "      <td>{'AnoMes': 202502, 'Municipio_Ibge': 3119609, ...</td>\n",
              "    </tr>\n",
              "    <tr>\n",
              "      <th>98</th>\n",
              "      <td>https://was-p.bcnet.bcb.gov.br/olinda/servico/...</td>\n",
              "      <td>{'AnoMes': 202308, 'Municipio_Ibge': 4204608, ...</td>\n",
              "    </tr>\n",
              "    <tr>\n",
              "      <th>99</th>\n",
              "      <td>https://was-p.bcnet.bcb.gov.br/olinda/servico/...</td>\n",
              "      <td>{'AnoMes': 202502, 'Municipio_Ibge': 3122504, ...</td>\n",
              "    </tr>\n",
              "  </tbody>\n",
              "</table>\n",
              "<p>100 rows × 2 columns</p>\n",
              "</div>"
            ],
            "text/plain": [
              "                                       @odata.context  \\\n",
              "0   https://was-p.bcnet.bcb.gov.br/olinda/servico/...   \n",
              "1   https://was-p.bcnet.bcb.gov.br/olinda/servico/...   \n",
              "2   https://was-p.bcnet.bcb.gov.br/olinda/servico/...   \n",
              "3   https://was-p.bcnet.bcb.gov.br/olinda/servico/...   \n",
              "4   https://was-p.bcnet.bcb.gov.br/olinda/servico/...   \n",
              "..                                                ...   \n",
              "95  https://was-p.bcnet.bcb.gov.br/olinda/servico/...   \n",
              "96  https://was-p.bcnet.bcb.gov.br/olinda/servico/...   \n",
              "97  https://was-p.bcnet.bcb.gov.br/olinda/servico/...   \n",
              "98  https://was-p.bcnet.bcb.gov.br/olinda/servico/...   \n",
              "99  https://was-p.bcnet.bcb.gov.br/olinda/servico/...   \n",
              "\n",
              "                                                value  \n",
              "0   {'AnoMes': 202307, 'Municipio_Ibge': 2106375, ...  \n",
              "1   {'AnoMes': 202401, 'Municipio_Ibge': 5201207, ...  \n",
              "2   {'AnoMes': 202401, 'Municipio_Ibge': 2600401, ...  \n",
              "3   {'AnoMes': 202412, 'Municipio_Ibge': 5218706, ...  \n",
              "4   {'AnoMes': 202309, 'Municipio_Ibge': 3508207, ...  \n",
              "..                                                ...  \n",
              "95  {'AnoMes': 202303, 'Municipio_Ibge': 2516805, ...  \n",
              "96  {'AnoMes': 202509, 'Municipio_Ibge': 2110005, ...  \n",
              "97  {'AnoMes': 202502, 'Municipio_Ibge': 3119609, ...  \n",
              "98  {'AnoMes': 202308, 'Municipio_Ibge': 4204608, ...  \n",
              "99  {'AnoMes': 202502, 'Municipio_Ibge': 3122504, ...  \n",
              "\n",
              "[100 rows x 2 columns]"
            ]
          },
          "execution_count": 6,
          "metadata": {},
          "output_type": "execute_result"
        }
      ],
      "source": [
        "jsondata"
      ]
    },
    {
      "cell_type": "code",
      "execution_count": 7,
      "metadata": {
        "id": "0auyOcQ3xKzU"
      },
      "outputs": [],
      "source": [
        "data = jsondata['value']"
      ]
    },
    {
      "cell_type": "code",
      "execution_count": 8,
      "metadata": {
        "id": "RB8qg76KBlWH"
      },
      "outputs": [],
      "source": [
        "dados_df = pd.json_normalize(data)"
      ]
    },
    {
      "cell_type": "markdown",
      "metadata": {
        "id": "AKKhUeGe27n3"
      },
      "source": [
        "Exibindo os primeiros valores do Dataframe"
      ]
    },
    {
      "cell_type": "code",
      "execution_count": 9,
      "metadata": {
        "colab": {
          "base_uri": "https://localhost:8080/",
          "height": 206
        },
        "id": "P3fupEO53AQ0",
        "outputId": "542e25d1-0856-4a8a-c4e3-10b0909a01f5"
      },
      "outputs": [
        {
          "data": {
            "text/html": [
              "<div>\n",
              "<style scoped>\n",
              "    .dataframe tbody tr th:only-of-type {\n",
              "        vertical-align: middle;\n",
              "    }\n",
              "\n",
              "    .dataframe tbody tr th {\n",
              "        vertical-align: top;\n",
              "    }\n",
              "\n",
              "    .dataframe thead th {\n",
              "        text-align: right;\n",
              "    }\n",
              "</style>\n",
              "<table border=\"1\" class=\"dataframe\">\n",
              "  <thead>\n",
              "    <tr style=\"text-align: right;\">\n",
              "      <th></th>\n",
              "      <th>AnoMes</th>\n",
              "      <th>Municipio_Ibge</th>\n",
              "      <th>Municipio</th>\n",
              "      <th>Estado_Ibge</th>\n",
              "      <th>Estado</th>\n",
              "      <th>Sigla_Regiao</th>\n",
              "      <th>Regiao</th>\n",
              "      <th>VL_PagadorPF</th>\n",
              "      <th>QT_PagadorPF</th>\n",
              "      <th>VL_PagadorPJ</th>\n",
              "      <th>QT_PagadorPJ</th>\n",
              "      <th>VL_RecebedorPF</th>\n",
              "      <th>QT_RecebedorPF</th>\n",
              "      <th>VL_RecebedorPJ</th>\n",
              "      <th>QT_RecebedorPJ</th>\n",
              "      <th>QT_PES_PagadorPF</th>\n",
              "      <th>QT_PES_PagadorPJ</th>\n",
              "      <th>QT_PES_RecebedorPF</th>\n",
              "      <th>QT_PES_RecebedorPJ</th>\n",
              "    </tr>\n",
              "  </thead>\n",
              "  <tbody>\n",
              "    <tr>\n",
              "      <th>0</th>\n",
              "      <td>202307</td>\n",
              "      <td>2106375</td>\n",
              "      <td>MARANHÃOZINHO</td>\n",
              "      <td>21</td>\n",
              "      <td>MARANHÃO</td>\n",
              "      <td>NE</td>\n",
              "      <td>NORDESTE</td>\n",
              "      <td>13910330.90</td>\n",
              "      <td>108845</td>\n",
              "      <td>2893974.75</td>\n",
              "      <td>2535</td>\n",
              "      <td>12845425.00</td>\n",
              "      <td>74902</td>\n",
              "      <td>2089266.01</td>\n",
              "      <td>8926</td>\n",
              "      <td>3889</td>\n",
              "      <td>85</td>\n",
              "      <td>3868</td>\n",
              "      <td>74</td>\n",
              "    </tr>\n",
              "    <tr>\n",
              "      <th>1</th>\n",
              "      <td>202401</td>\n",
              "      <td>5201207</td>\n",
              "      <td>ANHANGUERA</td>\n",
              "      <td>52</td>\n",
              "      <td>GOIÁS</td>\n",
              "      <td>CO</td>\n",
              "      <td>CENTRO-OESTE</td>\n",
              "      <td>1865615.91</td>\n",
              "      <td>12397</td>\n",
              "      <td>238473.25</td>\n",
              "      <td>340</td>\n",
              "      <td>1833353.64</td>\n",
              "      <td>7774</td>\n",
              "      <td>271422.97</td>\n",
              "      <td>923</td>\n",
              "      <td>528</td>\n",
              "      <td>21</td>\n",
              "      <td>498</td>\n",
              "      <td>23</td>\n",
              "    </tr>\n",
              "    <tr>\n",
              "      <th>2</th>\n",
              "      <td>202401</td>\n",
              "      <td>2600401</td>\n",
              "      <td>ÁGUA PRETA</td>\n",
              "      <td>26</td>\n",
              "      <td>PERNAMBUCO</td>\n",
              "      <td>NE</td>\n",
              "      <td>NORDESTE</td>\n",
              "      <td>43876460.77</td>\n",
              "      <td>369176</td>\n",
              "      <td>3087915.74</td>\n",
              "      <td>4496</td>\n",
              "      <td>41686680.16</td>\n",
              "      <td>241468</td>\n",
              "      <td>2930426.82</td>\n",
              "      <td>16311</td>\n",
              "      <td>12668</td>\n",
              "      <td>189</td>\n",
              "      <td>12848</td>\n",
              "      <td>167</td>\n",
              "    </tr>\n",
              "    <tr>\n",
              "      <th>3</th>\n",
              "      <td>202412</td>\n",
              "      <td>5218706</td>\n",
              "      <td>RIANÁPOLIS</td>\n",
              "      <td>52</td>\n",
              "      <td>GOIÁS</td>\n",
              "      <td>CO</td>\n",
              "      <td>CENTRO-OESTE</td>\n",
              "      <td>26110159.84</td>\n",
              "      <td>95617</td>\n",
              "      <td>7850163.37</td>\n",
              "      <td>6180</td>\n",
              "      <td>24205047.70</td>\n",
              "      <td>65034</td>\n",
              "      <td>8972572.75</td>\n",
              "      <td>16062</td>\n",
              "      <td>2687</td>\n",
              "      <td>177</td>\n",
              "      <td>2685</td>\n",
              "      <td>169</td>\n",
              "    </tr>\n",
              "    <tr>\n",
              "      <th>4</th>\n",
              "      <td>202309</td>\n",
              "      <td>3508207</td>\n",
              "      <td>BURITIZAL</td>\n",
              "      <td>35</td>\n",
              "      <td>SÃO PAULO</td>\n",
              "      <td>SE</td>\n",
              "      <td>SUDESTE</td>\n",
              "      <td>9308600.54</td>\n",
              "      <td>39252</td>\n",
              "      <td>9335570.98</td>\n",
              "      <td>4706</td>\n",
              "      <td>11641800.13</td>\n",
              "      <td>24401</td>\n",
              "      <td>16969313.88</td>\n",
              "      <td>9531</td>\n",
              "      <td>2176</td>\n",
              "      <td>247</td>\n",
              "      <td>2101</td>\n",
              "      <td>216</td>\n",
              "    </tr>\n",
              "  </tbody>\n",
              "</table>\n",
              "</div>"
            ],
            "text/plain": [
              "   AnoMes  Municipio_Ibge      Municipio  Estado_Ibge      Estado  \\\n",
              "0  202307         2106375  MARANHÃOZINHO           21    MARANHÃO   \n",
              "1  202401         5201207     ANHANGUERA           52       GOIÁS   \n",
              "2  202401         2600401     ÁGUA PRETA           26  PERNAMBUCO   \n",
              "3  202412         5218706     RIANÁPOLIS           52       GOIÁS   \n",
              "4  202309         3508207      BURITIZAL           35   SÃO PAULO   \n",
              "\n",
              "  Sigla_Regiao        Regiao  VL_PagadorPF  QT_PagadorPF  VL_PagadorPJ  \\\n",
              "0           NE      NORDESTE   13910330.90        108845    2893974.75   \n",
              "1           CO  CENTRO-OESTE    1865615.91         12397     238473.25   \n",
              "2           NE      NORDESTE   43876460.77        369176    3087915.74   \n",
              "3           CO  CENTRO-OESTE   26110159.84         95617    7850163.37   \n",
              "4           SE       SUDESTE    9308600.54         39252    9335570.98   \n",
              "\n",
              "   QT_PagadorPJ  VL_RecebedorPF  QT_RecebedorPF  VL_RecebedorPJ  \\\n",
              "0          2535     12845425.00           74902      2089266.01   \n",
              "1           340      1833353.64            7774       271422.97   \n",
              "2          4496     41686680.16          241468      2930426.82   \n",
              "3          6180     24205047.70           65034      8972572.75   \n",
              "4          4706     11641800.13           24401     16969313.88   \n",
              "\n",
              "   QT_RecebedorPJ  QT_PES_PagadorPF  QT_PES_PagadorPJ  QT_PES_RecebedorPF  \\\n",
              "0            8926              3889                85                3868   \n",
              "1             923               528                21                 498   \n",
              "2           16311             12668               189               12848   \n",
              "3           16062              2687               177                2685   \n",
              "4            9531              2176               247                2101   \n",
              "\n",
              "   QT_PES_RecebedorPJ  \n",
              "0                  74  \n",
              "1                  23  \n",
              "2                 167  \n",
              "3                 169  \n",
              "4                 216  "
            ]
          },
          "execution_count": 9,
          "metadata": {},
          "output_type": "execute_result"
        }
      ],
      "source": [
        "dados_df.head()"
      ]
    },
    {
      "cell_type": "code",
      "execution_count": 10,
      "metadata": {},
      "outputs": [
        {
          "data": {
            "text/plain": [
              "AnoMes                0\n",
              "Municipio_Ibge        0\n",
              "Municipio             0\n",
              "Estado_Ibge           0\n",
              "Estado                0\n",
              "Sigla_Regiao          0\n",
              "Regiao                0\n",
              "VL_PagadorPF          0\n",
              "QT_PagadorPF          0\n",
              "VL_PagadorPJ          0\n",
              "QT_PagadorPJ          0\n",
              "VL_RecebedorPF        0\n",
              "QT_RecebedorPF        0\n",
              "VL_RecebedorPJ        0\n",
              "QT_RecebedorPJ        0\n",
              "QT_PES_PagadorPF      0\n",
              "QT_PES_PagadorPJ      0\n",
              "QT_PES_RecebedorPF    0\n",
              "QT_PES_RecebedorPJ    0\n",
              "dtype: int64"
            ]
          },
          "execution_count": 10,
          "metadata": {},
          "output_type": "execute_result"
        }
      ],
      "source": [
        "dados_df.isnull().sum()"
      ]
    },
    {
      "cell_type": "code",
      "execution_count": 13,
      "metadata": {},
      "outputs": [
        {
          "data": {
            "text/plain": [
              "AnoMes                  int64\n",
              "Municipio_Ibge          int64\n",
              "Municipio              object\n",
              "Estado_Ibge             int64\n",
              "Estado                 object\n",
              "Sigla_Regiao           object\n",
              "Regiao                 object\n",
              "VL_PagadorPF          float64\n",
              "QT_PagadorPF            int64\n",
              "VL_PagadorPJ          float64\n",
              "QT_PagadorPJ            int64\n",
              "VL_RecebedorPF        float64\n",
              "QT_RecebedorPF          int64\n",
              "VL_RecebedorPJ        float64\n",
              "QT_RecebedorPJ          int64\n",
              "QT_PES_PagadorPF        int64\n",
              "QT_PES_PagadorPJ        int64\n",
              "QT_PES_RecebedorPF      int64\n",
              "QT_PES_RecebedorPJ      int64\n",
              "dtype: object"
            ]
          },
          "execution_count": 13,
          "metadata": {},
          "output_type": "execute_result"
        }
      ],
      "source": [
        "dados_df.dtypes"
      ]
    },
    {
      "cell_type": "code",
      "execution_count": 12,
      "metadata": {},
      "outputs": [
        {
          "name": "stdout",
          "output_type": "stream",
          "text": [
            "<class 'pandas.core.frame.DataFrame'>\n",
            "RangeIndex: 100 entries, 0 to 99\n",
            "Data columns (total 19 columns):\n",
            " #   Column              Non-Null Count  Dtype  \n",
            "---  ------              --------------  -----  \n",
            " 0   AnoMes              100 non-null    int64  \n",
            " 1   Municipio_Ibge      100 non-null    int64  \n",
            " 2   Municipio           100 non-null    object \n",
            " 3   Estado_Ibge         100 non-null    int64  \n",
            " 4   Estado              100 non-null    object \n",
            " 5   Sigla_Regiao        100 non-null    object \n",
            " 6   Regiao              100 non-null    object \n",
            " 7   VL_PagadorPF        100 non-null    float64\n",
            " 8   QT_PagadorPF        100 non-null    int64  \n",
            " 9   VL_PagadorPJ        100 non-null    float64\n",
            " 10  QT_PagadorPJ        100 non-null    int64  \n",
            " 11  VL_RecebedorPF      100 non-null    float64\n",
            " 12  QT_RecebedorPF      100 non-null    int64  \n",
            " 13  VL_RecebedorPJ      100 non-null    float64\n",
            " 14  QT_RecebedorPJ      100 non-null    int64  \n",
            " 15  QT_PES_PagadorPF    100 non-null    int64  \n",
            " 16  QT_PES_PagadorPJ    100 non-null    int64  \n",
            " 17  QT_PES_RecebedorPF  100 non-null    int64  \n",
            " 18  QT_PES_RecebedorPJ  100 non-null    int64  \n",
            "dtypes: float64(4), int64(11), object(4)\n",
            "memory usage: 15.0+ KB\n"
          ]
        }
      ],
      "source": [
        "dados_df.info()"
      ]
    }
  ],
  "metadata": {
    "colab": {
      "provenance": []
    },
    "kernelspec": {
      "display_name": ".venv",
      "language": "python",
      "name": "python3"
    },
    "language_info": {
      "codemirror_mode": {
        "name": "ipython",
        "version": 3
      },
      "file_extension": ".py",
      "mimetype": "text/x-python",
      "name": "python",
      "nbconvert_exporter": "python",
      "pygments_lexer": "ipython3",
      "version": "3.12.10"
    }
  },
  "nbformat": 4,
  "nbformat_minor": 0
}
