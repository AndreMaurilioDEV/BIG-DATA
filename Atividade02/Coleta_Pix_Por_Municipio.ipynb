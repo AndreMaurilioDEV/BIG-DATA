{
  "cells": [
    {
      "cell_type": "markdown",
      "metadata": {
        "id": "-kFGa5-nqQ4e"
      },
      "source": [
        "### Objetivo: Consumir API\n",
        "\n",
        "Acessando a url https://dadosabertos.bcb.gov.br/dataset/estatisticas-meios-pagamentos vocês terão acesso aos dados fornecidos pelo banco central sobre meios de pagamentos.\n",
        "Vocês podem consultar a API para obter a url para requisição dos dados.\n",
        "\n",
        "\n",
        "Determine a url fornecida:"
      ]
    },
    {
      "cell_type": "code",
      "execution_count": 15,
      "metadata": {
        "id": "cYiw6ED5qQ4h"
      },
      "outputs": [],
      "source": [
        "url = \"https://olinda.bcb.gov.br/olinda/servico/Pix_DadosAbertos/versao/v1/odata/TransacoesPixPorMunicipio(DataBase=@DataBase)?@DataBase='202301'&$top=100&$format=json&$select=AnoMes,Municipio_Ibge,Municipio,Estado_Ibge,Estado,Sigla_Regiao,Regiao,VL_PagadorPF,QT_PagadorPF,VL_PagadorPJ,QT_PagadorPJ,VL_RecebedorPF,QT_RecebedorPF,VL_RecebedorPJ,QT_RecebedorPJ,QT_PES_PagadorPF,QT_PES_PagadorPJ,QT_PES_RecebedorPF,QT_PES_RecebedorPJ\""
      ]
    },
    {
      "cell_type": "markdown",
      "metadata": {
        "id": "8BJ7k322qQ4i"
      },
      "source": [
        "Importar bibliotecas"
      ]
    },
    {
      "cell_type": "code",
      "execution_count": 16,
      "metadata": {
        "id": "ePWwGPEHqQ4i"
      },
      "outputs": [],
      "source": [
        "import pandas as pd  #possibilita manipulação e análise de dados\n",
        "import requests  #possibilita integração com serviços web, solicitações HTTP consumir dados de APIs\n",
        "import json  #manipular arquivo json"
      ]
    },
    {
      "cell_type": "markdown",
      "metadata": {
        "id": "r-g4xJd4qQ4j"
      },
      "source": [
        "Criar uma função para obter os dados:"
      ]
    },
    {
      "cell_type": "code",
      "execution_count": 17,
      "metadata": {
        "id": "EyOi0-LUqQ4j"
      },
      "outputs": [],
      "source": [
        "\n",
        "def requisicao_api(link):\n",
        "  resposta = requests.get(link)\n",
        "\n",
        "  if resposta.status_code == 200:      #sucesso na requisição\n",
        "    dados = resposta.json()\n",
        "    print('Status Code:', resposta.status_code)\n",
        "    with open('resultado.json', 'w', encoding='utf-8') as arquivo:   #salvar arquivo json\n",
        "      json.dump(dados, arquivo, ensure_ascii=False, indent=4)\n",
        "\n",
        "  else:\n",
        "    print('Status Code:', resposta.status_code)\n"
      ]
    },
    {
      "cell_type": "markdown",
      "metadata": {
        "id": "TFo1EAwI2t9C"
      },
      "source": [
        "Chamar função passando o link gerado pela interface da API"
      ]
    },
    {
      "cell_type": "code",
      "execution_count": 18,
      "metadata": {
        "colab": {
          "base_uri": "https://localhost:8080/"
        },
        "id": "gIwLweDatOkM",
        "outputId": "13099c5e-85c3-46eb-f293-82cc783501fc"
      },
      "outputs": [
        {
          "name": "stdout",
          "output_type": "stream",
          "text": [
            "Status Code: 200\n"
          ]
        }
      ],
      "source": [
        "requisicao_api(url)"
      ]
    },
    {
      "cell_type": "markdown",
      "metadata": {
        "id": "EReT3g18qQ4j"
      },
      "source": [
        "Convertendo em DataFrame"
      ]
    },
    {
      "cell_type": "code",
      "execution_count": 19,
      "metadata": {
        "id": "meT0oRcsqQ4j"
      },
      "outputs": [],
      "source": [
        "jsondata = pd.read_json('resultado.json')"
      ]
    },
    {
      "cell_type": "code",
      "execution_count": 20,
      "metadata": {
        "colab": {
          "base_uri": "https://localhost:8080/",
          "height": 1000
        },
        "id": "40ylowwB6jTr",
        "outputId": "58fbc55c-8cb4-4cb1-cccd-8ab01b6475b1"
      },
      "outputs": [
        {
          "data": {
            "text/html": [
              "<div>\n",
              "<style scoped>\n",
              "    .dataframe tbody tr th:only-of-type {\n",
              "        vertical-align: middle;\n",
              "    }\n",
              "\n",
              "    .dataframe tbody tr th {\n",
              "        vertical-align: top;\n",
              "    }\n",
              "\n",
              "    .dataframe thead th {\n",
              "        text-align: right;\n",
              "    }\n",
              "</style>\n",
              "<table border=\"1\" class=\"dataframe\">\n",
              "  <thead>\n",
              "    <tr style=\"text-align: right;\">\n",
              "      <th></th>\n",
              "      <th>@odata.context</th>\n",
              "      <th>value</th>\n",
              "    </tr>\n",
              "  </thead>\n",
              "  <tbody>\n",
              "    <tr>\n",
              "      <th>0</th>\n",
              "      <td>https://was-p.bcnet.bcb.gov.br/olinda/servico/...</td>\n",
              "      <td>{'AnoMes': 202311, 'Municipio_Ibge': 2106375, ...</td>\n",
              "    </tr>\n",
              "    <tr>\n",
              "      <th>1</th>\n",
              "      <td>https://was-p.bcnet.bcb.gov.br/olinda/servico/...</td>\n",
              "      <td>{'AnoMes': 202410, 'Municipio_Ibge': 5201207, ...</td>\n",
              "    </tr>\n",
              "    <tr>\n",
              "      <th>2</th>\n",
              "      <td>https://was-p.bcnet.bcb.gov.br/olinda/servico/...</td>\n",
              "      <td>{'AnoMes': 202411, 'Municipio_Ibge': 2600401, ...</td>\n",
              "    </tr>\n",
              "    <tr>\n",
              "      <th>3</th>\n",
              "      <td>https://was-p.bcnet.bcb.gov.br/olinda/servico/...</td>\n",
              "      <td>{'AnoMes': 202404, 'Municipio_Ibge': 5218706, ...</td>\n",
              "    </tr>\n",
              "    <tr>\n",
              "      <th>4</th>\n",
              "      <td>https://was-p.bcnet.bcb.gov.br/olinda/servico/...</td>\n",
              "      <td>{'AnoMes': 202312, 'Municipio_Ibge': 3508207, ...</td>\n",
              "    </tr>\n",
              "    <tr>\n",
              "      <th>...</th>\n",
              "      <td>...</td>\n",
              "      <td>...</td>\n",
              "    </tr>\n",
              "    <tr>\n",
              "      <th>95</th>\n",
              "      <td>https://was-p.bcnet.bcb.gov.br/olinda/servico/...</td>\n",
              "      <td>{'AnoMes': 202507, 'Municipio_Ibge': 2516805, ...</td>\n",
              "    </tr>\n",
              "    <tr>\n",
              "      <th>96</th>\n",
              "      <td>https://was-p.bcnet.bcb.gov.br/olinda/servico/...</td>\n",
              "      <td>{'AnoMes': 202305, 'Municipio_Ibge': 2110005, ...</td>\n",
              "    </tr>\n",
              "    <tr>\n",
              "      <th>97</th>\n",
              "      <td>https://was-p.bcnet.bcb.gov.br/olinda/servico/...</td>\n",
              "      <td>{'AnoMes': 202405, 'Municipio_Ibge': 3119609, ...</td>\n",
              "    </tr>\n",
              "    <tr>\n",
              "      <th>98</th>\n",
              "      <td>https://was-p.bcnet.bcb.gov.br/olinda/servico/...</td>\n",
              "      <td>{'AnoMes': 202502, 'Municipio_Ibge': 4204608, ...</td>\n",
              "    </tr>\n",
              "    <tr>\n",
              "      <th>99</th>\n",
              "      <td>https://was-p.bcnet.bcb.gov.br/olinda/servico/...</td>\n",
              "      <td>{'AnoMes': 202507, 'Municipio_Ibge': 3122504, ...</td>\n",
              "    </tr>\n",
              "  </tbody>\n",
              "</table>\n",
              "<p>100 rows × 2 columns</p>\n",
              "</div>"
            ],
            "text/plain": [
              "                                       @odata.context  \\\n",
              "0   https://was-p.bcnet.bcb.gov.br/olinda/servico/...   \n",
              "1   https://was-p.bcnet.bcb.gov.br/olinda/servico/...   \n",
              "2   https://was-p.bcnet.bcb.gov.br/olinda/servico/...   \n",
              "3   https://was-p.bcnet.bcb.gov.br/olinda/servico/...   \n",
              "4   https://was-p.bcnet.bcb.gov.br/olinda/servico/...   \n",
              "..                                                ...   \n",
              "95  https://was-p.bcnet.bcb.gov.br/olinda/servico/...   \n",
              "96  https://was-p.bcnet.bcb.gov.br/olinda/servico/...   \n",
              "97  https://was-p.bcnet.bcb.gov.br/olinda/servico/...   \n",
              "98  https://was-p.bcnet.bcb.gov.br/olinda/servico/...   \n",
              "99  https://was-p.bcnet.bcb.gov.br/olinda/servico/...   \n",
              "\n",
              "                                                value  \n",
              "0   {'AnoMes': 202311, 'Municipio_Ibge': 2106375, ...  \n",
              "1   {'AnoMes': 202410, 'Municipio_Ibge': 5201207, ...  \n",
              "2   {'AnoMes': 202411, 'Municipio_Ibge': 2600401, ...  \n",
              "3   {'AnoMes': 202404, 'Municipio_Ibge': 5218706, ...  \n",
              "4   {'AnoMes': 202312, 'Municipio_Ibge': 3508207, ...  \n",
              "..                                                ...  \n",
              "95  {'AnoMes': 202507, 'Municipio_Ibge': 2516805, ...  \n",
              "96  {'AnoMes': 202305, 'Municipio_Ibge': 2110005, ...  \n",
              "97  {'AnoMes': 202405, 'Municipio_Ibge': 3119609, ...  \n",
              "98  {'AnoMes': 202502, 'Municipio_Ibge': 4204608, ...  \n",
              "99  {'AnoMes': 202507, 'Municipio_Ibge': 3122504, ...  \n",
              "\n",
              "[100 rows x 2 columns]"
            ]
          },
          "execution_count": 20,
          "metadata": {},
          "output_type": "execute_result"
        }
      ],
      "source": [
        "jsondata"
      ]
    },
    {
      "cell_type": "code",
      "execution_count": 21,
      "metadata": {
        "id": "0auyOcQ3xKzU"
      },
      "outputs": [],
      "source": [
        "data = jsondata['value']"
      ]
    },
    {
      "cell_type": "code",
      "execution_count": 22,
      "metadata": {
        "id": "RB8qg76KBlWH"
      },
      "outputs": [],
      "source": [
        "dados_df = pd.json_normalize(data)"
      ]
    },
    {
      "cell_type": "markdown",
      "metadata": {
        "id": "AKKhUeGe27n3"
      },
      "source": [
        "Exibindo os primeiros valores do Dataframe"
      ]
    },
    {
      "cell_type": "code",
      "execution_count": 23,
      "metadata": {
        "colab": {
          "base_uri": "https://localhost:8080/",
          "height": 206
        },
        "id": "P3fupEO53AQ0",
        "outputId": "542e25d1-0856-4a8a-c4e3-10b0909a01f5"
      },
      "outputs": [
        {
          "data": {
            "text/html": [
              "<div>\n",
              "<style scoped>\n",
              "    .dataframe tbody tr th:only-of-type {\n",
              "        vertical-align: middle;\n",
              "    }\n",
              "\n",
              "    .dataframe tbody tr th {\n",
              "        vertical-align: top;\n",
              "    }\n",
              "\n",
              "    .dataframe thead th {\n",
              "        text-align: right;\n",
              "    }\n",
              "</style>\n",
              "<table border=\"1\" class=\"dataframe\">\n",
              "  <thead>\n",
              "    <tr style=\"text-align: right;\">\n",
              "      <th></th>\n",
              "      <th>AnoMes</th>\n",
              "      <th>Municipio_Ibge</th>\n",
              "      <th>Municipio</th>\n",
              "      <th>Estado_Ibge</th>\n",
              "      <th>Estado</th>\n",
              "      <th>Sigla_Regiao</th>\n",
              "      <th>Regiao</th>\n",
              "      <th>VL_PagadorPF</th>\n",
              "      <th>QT_PagadorPF</th>\n",
              "      <th>VL_PagadorPJ</th>\n",
              "      <th>QT_PagadorPJ</th>\n",
              "      <th>VL_RecebedorPF</th>\n",
              "      <th>QT_RecebedorPF</th>\n",
              "      <th>VL_RecebedorPJ</th>\n",
              "      <th>QT_RecebedorPJ</th>\n",
              "      <th>QT_PES_PagadorPF</th>\n",
              "      <th>QT_PES_PagadorPJ</th>\n",
              "      <th>QT_PES_RecebedorPF</th>\n",
              "      <th>QT_PES_RecebedorPJ</th>\n",
              "    </tr>\n",
              "  </thead>\n",
              "  <tbody>\n",
              "    <tr>\n",
              "      <th>0</th>\n",
              "      <td>202311</td>\n",
              "      <td>2106375</td>\n",
              "      <td>MARANHÃOZINHO</td>\n",
              "      <td>21</td>\n",
              "      <td>MARANHÃO</td>\n",
              "      <td>NE</td>\n",
              "      <td>NORDESTE</td>\n",
              "      <td>16511637.37</td>\n",
              "      <td>136416</td>\n",
              "      <td>2853548.08</td>\n",
              "      <td>3905</td>\n",
              "      <td>14969477.44</td>\n",
              "      <td>87861</td>\n",
              "      <td>2205700.68</td>\n",
              "      <td>14833</td>\n",
              "      <td>4277</td>\n",
              "      <td>84</td>\n",
              "      <td>4196</td>\n",
              "      <td>73</td>\n",
              "    </tr>\n",
              "    <tr>\n",
              "      <th>1</th>\n",
              "      <td>202410</td>\n",
              "      <td>5201207</td>\n",
              "      <td>ANHANGUERA</td>\n",
              "      <td>52</td>\n",
              "      <td>GOIÁS</td>\n",
              "      <td>CO</td>\n",
              "      <td>CENTRO-OESTE</td>\n",
              "      <td>3305726.23</td>\n",
              "      <td>17763</td>\n",
              "      <td>282748.87</td>\n",
              "      <td>650</td>\n",
              "      <td>3081308.97</td>\n",
              "      <td>11018</td>\n",
              "      <td>308563.57</td>\n",
              "      <td>1362</td>\n",
              "      <td>580</td>\n",
              "      <td>43</td>\n",
              "      <td>569</td>\n",
              "      <td>34</td>\n",
              "    </tr>\n",
              "    <tr>\n",
              "      <th>2</th>\n",
              "      <td>202411</td>\n",
              "      <td>2600401</td>\n",
              "      <td>ÁGUA PRETA</td>\n",
              "      <td>26</td>\n",
              "      <td>PERNAMBUCO</td>\n",
              "      <td>NE</td>\n",
              "      <td>NORDESTE</td>\n",
              "      <td>61948499.95</td>\n",
              "      <td>508099</td>\n",
              "      <td>6271897.18</td>\n",
              "      <td>7230</td>\n",
              "      <td>58583683.44</td>\n",
              "      <td>332964</td>\n",
              "      <td>5727090.32</td>\n",
              "      <td>29430</td>\n",
              "      <td>14446</td>\n",
              "      <td>240</td>\n",
              "      <td>14406</td>\n",
              "      <td>191</td>\n",
              "    </tr>\n",
              "    <tr>\n",
              "      <th>3</th>\n",
              "      <td>202404</td>\n",
              "      <td>5218706</td>\n",
              "      <td>RIANÁPOLIS</td>\n",
              "      <td>52</td>\n",
              "      <td>GOIÁS</td>\n",
              "      <td>CO</td>\n",
              "      <td>CENTRO-OESTE</td>\n",
              "      <td>18348267.23</td>\n",
              "      <td>80844</td>\n",
              "      <td>6955138.59</td>\n",
              "      <td>5442</td>\n",
              "      <td>19188033.50</td>\n",
              "      <td>56321</td>\n",
              "      <td>7620701.47</td>\n",
              "      <td>11735</td>\n",
              "      <td>2521</td>\n",
              "      <td>167</td>\n",
              "      <td>2542</td>\n",
              "      <td>161</td>\n",
              "    </tr>\n",
              "    <tr>\n",
              "      <th>4</th>\n",
              "      <td>202312</td>\n",
              "      <td>3508207</td>\n",
              "      <td>BURITIZAL</td>\n",
              "      <td>35</td>\n",
              "      <td>SÃO PAULO</td>\n",
              "      <td>SE</td>\n",
              "      <td>SUDESTE</td>\n",
              "      <td>12827813.22</td>\n",
              "      <td>54605</td>\n",
              "      <td>8015717.07</td>\n",
              "      <td>5311</td>\n",
              "      <td>16047847.75</td>\n",
              "      <td>31383</td>\n",
              "      <td>13040713.16</td>\n",
              "      <td>11854</td>\n",
              "      <td>2268</td>\n",
              "      <td>247</td>\n",
              "      <td>2220</td>\n",
              "      <td>237</td>\n",
              "    </tr>\n",
              "  </tbody>\n",
              "</table>\n",
              "</div>"
            ],
            "text/plain": [
              "   AnoMes  Municipio_Ibge      Municipio  Estado_Ibge      Estado  \\\n",
              "0  202311         2106375  MARANHÃOZINHO           21    MARANHÃO   \n",
              "1  202410         5201207     ANHANGUERA           52       GOIÁS   \n",
              "2  202411         2600401     ÁGUA PRETA           26  PERNAMBUCO   \n",
              "3  202404         5218706     RIANÁPOLIS           52       GOIÁS   \n",
              "4  202312         3508207      BURITIZAL           35   SÃO PAULO   \n",
              "\n",
              "  Sigla_Regiao        Regiao  VL_PagadorPF  QT_PagadorPF  VL_PagadorPJ  \\\n",
              "0           NE      NORDESTE   16511637.37        136416    2853548.08   \n",
              "1           CO  CENTRO-OESTE    3305726.23         17763     282748.87   \n",
              "2           NE      NORDESTE   61948499.95        508099    6271897.18   \n",
              "3           CO  CENTRO-OESTE   18348267.23         80844    6955138.59   \n",
              "4           SE       SUDESTE   12827813.22         54605    8015717.07   \n",
              "\n",
              "   QT_PagadorPJ  VL_RecebedorPF  QT_RecebedorPF  VL_RecebedorPJ  \\\n",
              "0          3905     14969477.44           87861      2205700.68   \n",
              "1           650      3081308.97           11018       308563.57   \n",
              "2          7230     58583683.44          332964      5727090.32   \n",
              "3          5442     19188033.50           56321      7620701.47   \n",
              "4          5311     16047847.75           31383     13040713.16   \n",
              "\n",
              "   QT_RecebedorPJ  QT_PES_PagadorPF  QT_PES_PagadorPJ  QT_PES_RecebedorPF  \\\n",
              "0           14833              4277                84                4196   \n",
              "1            1362               580                43                 569   \n",
              "2           29430             14446               240               14406   \n",
              "3           11735              2521               167                2542   \n",
              "4           11854              2268               247                2220   \n",
              "\n",
              "   QT_PES_RecebedorPJ  \n",
              "0                  73  \n",
              "1                  34  \n",
              "2                 191  \n",
              "3                 161  \n",
              "4                 237  "
            ]
          },
          "execution_count": 23,
          "metadata": {},
          "output_type": "execute_result"
        }
      ],
      "source": [
        "dados_df.head()"
      ]
    },
    {
      "cell_type": "code",
      "execution_count": 24,
      "metadata": {},
      "outputs": [
        {
          "data": {
            "text/plain": [
              "AnoMes                0\n",
              "Municipio_Ibge        0\n",
              "Municipio             0\n",
              "Estado_Ibge           0\n",
              "Estado                0\n",
              "Sigla_Regiao          0\n",
              "Regiao                0\n",
              "VL_PagadorPF          0\n",
              "QT_PagadorPF          0\n",
              "VL_PagadorPJ          0\n",
              "QT_PagadorPJ          0\n",
              "VL_RecebedorPF        0\n",
              "QT_RecebedorPF        0\n",
              "VL_RecebedorPJ        0\n",
              "QT_RecebedorPJ        0\n",
              "QT_PES_PagadorPF      0\n",
              "QT_PES_PagadorPJ      0\n",
              "QT_PES_RecebedorPF    0\n",
              "QT_PES_RecebedorPJ    0\n",
              "dtype: int64"
            ]
          },
          "execution_count": 24,
          "metadata": {},
          "output_type": "execute_result"
        }
      ],
      "source": [
        "dados_df.isnull().sum()"
      ]
    },
    {
      "cell_type": "code",
      "execution_count": 25,
      "metadata": {},
      "outputs": [
        {
          "data": {
            "text/plain": [
              "AnoMes                  int64\n",
              "Municipio_Ibge          int64\n",
              "Municipio              object\n",
              "Estado_Ibge             int64\n",
              "Estado                 object\n",
              "Sigla_Regiao           object\n",
              "Regiao                 object\n",
              "VL_PagadorPF          float64\n",
              "QT_PagadorPF            int64\n",
              "VL_PagadorPJ          float64\n",
              "QT_PagadorPJ            int64\n",
              "VL_RecebedorPF        float64\n",
              "QT_RecebedorPF          int64\n",
              "VL_RecebedorPJ        float64\n",
              "QT_RecebedorPJ          int64\n",
              "QT_PES_PagadorPF        int64\n",
              "QT_PES_PagadorPJ        int64\n",
              "QT_PES_RecebedorPF      int64\n",
              "QT_PES_RecebedorPJ      int64\n",
              "dtype: object"
            ]
          },
          "execution_count": 25,
          "metadata": {},
          "output_type": "execute_result"
        }
      ],
      "source": [
        "dados_df.dtypes"
      ]
    },
    {
      "cell_type": "code",
      "execution_count": 26,
      "metadata": {},
      "outputs": [
        {
          "name": "stdout",
          "output_type": "stream",
          "text": [
            "<class 'pandas.core.frame.DataFrame'>\n",
            "RangeIndex: 100 entries, 0 to 99\n",
            "Data columns (total 19 columns):\n",
            " #   Column              Non-Null Count  Dtype  \n",
            "---  ------              --------------  -----  \n",
            " 0   AnoMes              100 non-null    int64  \n",
            " 1   Municipio_Ibge      100 non-null    int64  \n",
            " 2   Municipio           100 non-null    object \n",
            " 3   Estado_Ibge         100 non-null    int64  \n",
            " 4   Estado              100 non-null    object \n",
            " 5   Sigla_Regiao        100 non-null    object \n",
            " 6   Regiao              100 non-null    object \n",
            " 7   VL_PagadorPF        100 non-null    float64\n",
            " 8   QT_PagadorPF        100 non-null    int64  \n",
            " 9   VL_PagadorPJ        100 non-null    float64\n",
            " 10  QT_PagadorPJ        100 non-null    int64  \n",
            " 11  VL_RecebedorPF      100 non-null    float64\n",
            " 12  QT_RecebedorPF      100 non-null    int64  \n",
            " 13  VL_RecebedorPJ      100 non-null    float64\n",
            " 14  QT_RecebedorPJ      100 non-null    int64  \n",
            " 15  QT_PES_PagadorPF    100 non-null    int64  \n",
            " 16  QT_PES_PagadorPJ    100 non-null    int64  \n",
            " 17  QT_PES_RecebedorPF  100 non-null    int64  \n",
            " 18  QT_PES_RecebedorPJ  100 non-null    int64  \n",
            "dtypes: float64(4), int64(11), object(4)\n",
            "memory usage: 15.0+ KB\n"
          ]
        }
      ],
      "source": [
        "dados_df.info()"
      ]
    }
  ],
  "metadata": {
    "colab": {
      "provenance": []
    },
    "kernelspec": {
      "display_name": ".venv",
      "language": "python",
      "name": "python3"
    },
    "language_info": {
      "codemirror_mode": {
        "name": "ipython",
        "version": 3
      },
      "file_extension": ".py",
      "mimetype": "text/x-python",
      "name": "python",
      "nbconvert_exporter": "python",
      "pygments_lexer": "ipython3",
      "version": "3.12.10"
    }
  },
  "nbformat": 4,
  "nbformat_minor": 0
}
