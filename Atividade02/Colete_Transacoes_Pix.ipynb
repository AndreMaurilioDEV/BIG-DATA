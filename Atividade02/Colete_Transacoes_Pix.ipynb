{
  "cells": [
    {
      "cell_type": "markdown",
      "metadata": {
        "id": "-kFGa5-nqQ4e"
      },
      "source": [
        "### Objetivo: Consumir API\n",
        "\n",
        "Acessando a url https://dadosabertos.bcb.gov.br/dataset/estatisticas-meios-pagamentos vocês terão acesso aos dados fornecidos pelo banco central sobre meios de pagamentos.\n",
        "Vocês podem consultar a API para obter a url para requisição dos dados.\n",
        "\n",
        "\n",
        "Determine a url fornecida:"
      ]
    },
    {
      "cell_type": "code",
      "execution_count": 1,
      "metadata": {
        "id": "cYiw6ED5qQ4h"
      },
      "outputs": [],
      "source": [
        "url = \"https://olinda.bcb.gov.br/olinda/servico/Pix_DadosAbertos/versao/v1/odata/EstatisticasTransacoesPix(Database=@Database)?@Database='202301'&$top=100&$format=json&$select=AnoMes,PAG_PFPJ,REC_PFPJ,PAG_REGIAO,REC_REGIAO,PAG_IDADE,REC_IDADE,FORMAINICIACAO,NATUREZA,FINALIDADE,VALOR,QUANTIDADE\""
      ]
    },
    {
      "cell_type": "markdown",
      "metadata": {
        "id": "8BJ7k322qQ4i"
      },
      "source": [
        "Importar bibliotecas"
      ]
    },
    {
      "cell_type": "code",
      "execution_count": 2,
      "metadata": {
        "id": "ePWwGPEHqQ4i"
      },
      "outputs": [],
      "source": [
        "import pandas as pd  #possibilita manipulação e análise de dados\n",
        "import requests  #possibilita integração com serviços web, solicitações HTTP consumir dados de APIs\n",
        "import json  #manipular arquivo json"
      ]
    },
    {
      "cell_type": "markdown",
      "metadata": {
        "id": "r-g4xJd4qQ4j"
      },
      "source": [
        "Criar uma função para obter os dados:"
      ]
    },
    {
      "cell_type": "code",
      "execution_count": 3,
      "metadata": {
        "id": "EyOi0-LUqQ4j"
      },
      "outputs": [],
      "source": [
        "\n",
        "def requisicao_api(link):\n",
        "  resposta = requests.get(link)\n",
        "\n",
        "  if resposta.status_code == 200:      #sucesso na requisição\n",
        "    dados = resposta.json()\n",
        "    print('Status Code:', resposta.status_code)\n",
        "    with open('resultado.json', 'w', encoding='utf-8') as arquivo:   #salvar arquivo json\n",
        "      json.dump(dados, arquivo, ensure_ascii=False, indent=4)\n",
        "\n",
        "  else:\n",
        "    print('Status Code:', resposta.status_code)\n"
      ]
    },
    {
      "cell_type": "markdown",
      "metadata": {
        "id": "TFo1EAwI2t9C"
      },
      "source": [
        "Chamar função passando o link gerado pela interface da API"
      ]
    },
    {
      "cell_type": "code",
      "execution_count": 4,
      "metadata": {
        "colab": {
          "base_uri": "https://localhost:8080/"
        },
        "id": "gIwLweDatOkM",
        "outputId": "13099c5e-85c3-46eb-f293-82cc783501fc"
      },
      "outputs": [
        {
          "name": "stdout",
          "output_type": "stream",
          "text": [
            "Status Code: 200\n"
          ]
        }
      ],
      "source": [
        "requisicao_api(url)"
      ]
    },
    {
      "cell_type": "markdown",
      "metadata": {
        "id": "EReT3g18qQ4j"
      },
      "source": [
        "Convertendo em DataFrame"
      ]
    },
    {
      "cell_type": "code",
      "execution_count": 5,
      "metadata": {
        "id": "meT0oRcsqQ4j"
      },
      "outputs": [],
      "source": [
        "jsondata = pd.read_json('resultado.json')"
      ]
    },
    {
      "cell_type": "code",
      "execution_count": 6,
      "metadata": {
        "colab": {
          "base_uri": "https://localhost:8080/",
          "height": 1000
        },
        "id": "40ylowwB6jTr",
        "outputId": "58fbc55c-8cb4-4cb1-cccd-8ab01b6475b1"
      },
      "outputs": [
        {
          "data": {
            "text/html": [
              "<div>\n",
              "<style scoped>\n",
              "    .dataframe tbody tr th:only-of-type {\n",
              "        vertical-align: middle;\n",
              "    }\n",
              "\n",
              "    .dataframe tbody tr th {\n",
              "        vertical-align: top;\n",
              "    }\n",
              "\n",
              "    .dataframe thead th {\n",
              "        text-align: right;\n",
              "    }\n",
              "</style>\n",
              "<table border=\"1\" class=\"dataframe\">\n",
              "  <thead>\n",
              "    <tr style=\"text-align: right;\">\n",
              "      <th></th>\n",
              "      <th>@odata.context</th>\n",
              "      <th>value</th>\n",
              "    </tr>\n",
              "  </thead>\n",
              "  <tbody>\n",
              "    <tr>\n",
              "      <th>0</th>\n",
              "      <td>https://was-p.bcnet.bcb.gov.br/olinda/servico/...</td>\n",
              "      <td>{'AnoMes': 202405, 'PAG_PFPJ': 'PF', 'REC_PFPJ...</td>\n",
              "    </tr>\n",
              "    <tr>\n",
              "      <th>1</th>\n",
              "      <td>https://was-p.bcnet.bcb.gov.br/olinda/servico/...</td>\n",
              "      <td>{'AnoMes': 202303, 'PAG_PFPJ': 'PF', 'REC_PFPJ...</td>\n",
              "    </tr>\n",
              "    <tr>\n",
              "      <th>2</th>\n",
              "      <td>https://was-p.bcnet.bcb.gov.br/olinda/servico/...</td>\n",
              "      <td>{'AnoMes': 202301, 'PAG_PFPJ': 'PJ', 'REC_PFPJ...</td>\n",
              "    </tr>\n",
              "    <tr>\n",
              "      <th>3</th>\n",
              "      <td>https://was-p.bcnet.bcb.gov.br/olinda/servico/...</td>\n",
              "      <td>{'AnoMes': 202401, 'PAG_PFPJ': 'PJ', 'REC_PFPJ...</td>\n",
              "    </tr>\n",
              "    <tr>\n",
              "      <th>4</th>\n",
              "      <td>https://was-p.bcnet.bcb.gov.br/olinda/servico/...</td>\n",
              "      <td>{'AnoMes': 202408, 'PAG_PFPJ': 'PF', 'REC_PFPJ...</td>\n",
              "    </tr>\n",
              "    <tr>\n",
              "      <th>...</th>\n",
              "      <td>...</td>\n",
              "      <td>...</td>\n",
              "    </tr>\n",
              "    <tr>\n",
              "      <th>95</th>\n",
              "      <td>https://was-p.bcnet.bcb.gov.br/olinda/servico/...</td>\n",
              "      <td>{'AnoMes': 202408, 'PAG_PFPJ': 'PJ', 'REC_PFPJ...</td>\n",
              "    </tr>\n",
              "    <tr>\n",
              "      <th>96</th>\n",
              "      <td>https://was-p.bcnet.bcb.gov.br/olinda/servico/...</td>\n",
              "      <td>{'AnoMes': 202406, 'PAG_PFPJ': 'PF', 'REC_PFPJ...</td>\n",
              "    </tr>\n",
              "    <tr>\n",
              "      <th>97</th>\n",
              "      <td>https://was-p.bcnet.bcb.gov.br/olinda/servico/...</td>\n",
              "      <td>{'AnoMes': 202412, 'PAG_PFPJ': 'PF', 'REC_PFPJ...</td>\n",
              "    </tr>\n",
              "    <tr>\n",
              "      <th>98</th>\n",
              "      <td>https://was-p.bcnet.bcb.gov.br/olinda/servico/...</td>\n",
              "      <td>{'AnoMes': 202311, 'PAG_PFPJ': 'PF', 'REC_PFPJ...</td>\n",
              "    </tr>\n",
              "    <tr>\n",
              "      <th>99</th>\n",
              "      <td>https://was-p.bcnet.bcb.gov.br/olinda/servico/...</td>\n",
              "      <td>{'AnoMes': 202507, 'PAG_PFPJ': 'PF', 'REC_PFPJ...</td>\n",
              "    </tr>\n",
              "  </tbody>\n",
              "</table>\n",
              "<p>100 rows × 2 columns</p>\n",
              "</div>"
            ],
            "text/plain": [
              "                                       @odata.context  \\\n",
              "0   https://was-p.bcnet.bcb.gov.br/olinda/servico/...   \n",
              "1   https://was-p.bcnet.bcb.gov.br/olinda/servico/...   \n",
              "2   https://was-p.bcnet.bcb.gov.br/olinda/servico/...   \n",
              "3   https://was-p.bcnet.bcb.gov.br/olinda/servico/...   \n",
              "4   https://was-p.bcnet.bcb.gov.br/olinda/servico/...   \n",
              "..                                                ...   \n",
              "95  https://was-p.bcnet.bcb.gov.br/olinda/servico/...   \n",
              "96  https://was-p.bcnet.bcb.gov.br/olinda/servico/...   \n",
              "97  https://was-p.bcnet.bcb.gov.br/olinda/servico/...   \n",
              "98  https://was-p.bcnet.bcb.gov.br/olinda/servico/...   \n",
              "99  https://was-p.bcnet.bcb.gov.br/olinda/servico/...   \n",
              "\n",
              "                                                value  \n",
              "0   {'AnoMes': 202405, 'PAG_PFPJ': 'PF', 'REC_PFPJ...  \n",
              "1   {'AnoMes': 202303, 'PAG_PFPJ': 'PF', 'REC_PFPJ...  \n",
              "2   {'AnoMes': 202301, 'PAG_PFPJ': 'PJ', 'REC_PFPJ...  \n",
              "3   {'AnoMes': 202401, 'PAG_PFPJ': 'PJ', 'REC_PFPJ...  \n",
              "4   {'AnoMes': 202408, 'PAG_PFPJ': 'PF', 'REC_PFPJ...  \n",
              "..                                                ...  \n",
              "95  {'AnoMes': 202408, 'PAG_PFPJ': 'PJ', 'REC_PFPJ...  \n",
              "96  {'AnoMes': 202406, 'PAG_PFPJ': 'PF', 'REC_PFPJ...  \n",
              "97  {'AnoMes': 202412, 'PAG_PFPJ': 'PF', 'REC_PFPJ...  \n",
              "98  {'AnoMes': 202311, 'PAG_PFPJ': 'PF', 'REC_PFPJ...  \n",
              "99  {'AnoMes': 202507, 'PAG_PFPJ': 'PF', 'REC_PFPJ...  \n",
              "\n",
              "[100 rows x 2 columns]"
            ]
          },
          "execution_count": 6,
          "metadata": {},
          "output_type": "execute_result"
        }
      ],
      "source": [
        "jsondata"
      ]
    },
    {
      "cell_type": "code",
      "execution_count": 7,
      "metadata": {
        "id": "0auyOcQ3xKzU"
      },
      "outputs": [],
      "source": [
        "data = jsondata['value']"
      ]
    },
    {
      "cell_type": "code",
      "execution_count": 8,
      "metadata": {
        "id": "RB8qg76KBlWH"
      },
      "outputs": [],
      "source": [
        "dados_df = pd.json_normalize(data)"
      ]
    },
    {
      "cell_type": "markdown",
      "metadata": {
        "id": "AKKhUeGe27n3"
      },
      "source": [
        "Exibindo os primeiros valores do Dataframe"
      ]
    },
    {
      "cell_type": "code",
      "execution_count": 9,
      "metadata": {
        "colab": {
          "base_uri": "https://localhost:8080/",
          "height": 206
        },
        "id": "P3fupEO53AQ0",
        "outputId": "542e25d1-0856-4a8a-c4e3-10b0909a01f5"
      },
      "outputs": [
        {
          "data": {
            "text/html": [
              "<div>\n",
              "<style scoped>\n",
              "    .dataframe tbody tr th:only-of-type {\n",
              "        vertical-align: middle;\n",
              "    }\n",
              "\n",
              "    .dataframe tbody tr th {\n",
              "        vertical-align: top;\n",
              "    }\n",
              "\n",
              "    .dataframe thead th {\n",
              "        text-align: right;\n",
              "    }\n",
              "</style>\n",
              "<table border=\"1\" class=\"dataframe\">\n",
              "  <thead>\n",
              "    <tr style=\"text-align: right;\">\n",
              "      <th></th>\n",
              "      <th>AnoMes</th>\n",
              "      <th>PAG_PFPJ</th>\n",
              "      <th>REC_PFPJ</th>\n",
              "      <th>PAG_REGIAO</th>\n",
              "      <th>REC_REGIAO</th>\n",
              "      <th>PAG_IDADE</th>\n",
              "      <th>REC_IDADE</th>\n",
              "      <th>FORMAINICIACAO</th>\n",
              "      <th>NATUREZA</th>\n",
              "      <th>FINALIDADE</th>\n",
              "      <th>VALOR</th>\n",
              "      <th>QUANTIDADE</th>\n",
              "    </tr>\n",
              "  </thead>\n",
              "  <tbody>\n",
              "    <tr>\n",
              "      <th>0</th>\n",
              "      <td>202405</td>\n",
              "      <td>PF</td>\n",
              "      <td>PJ</td>\n",
              "      <td>Nao informado</td>\n",
              "      <td>SUDESTE</td>\n",
              "      <td>entre 30 e 39 anos</td>\n",
              "      <td>Nao se aplica</td>\n",
              "      <td>DICT</td>\n",
              "      <td>P2G</td>\n",
              "      <td>Pix</td>\n",
              "      <td>3384.22</td>\n",
              "      <td>8</td>\n",
              "    </tr>\n",
              "    <tr>\n",
              "      <th>1</th>\n",
              "      <td>202303</td>\n",
              "      <td>PF</td>\n",
              "      <td>PJ</td>\n",
              "      <td>NORTE</td>\n",
              "      <td>NORTE</td>\n",
              "      <td>mais de 60 anos</td>\n",
              "      <td>Nao se aplica</td>\n",
              "      <td>QRDN</td>\n",
              "      <td>P2B</td>\n",
              "      <td>Pix Troco</td>\n",
              "      <td>7525.59</td>\n",
              "      <td>16</td>\n",
              "    </tr>\n",
              "    <tr>\n",
              "      <th>2</th>\n",
              "      <td>202301</td>\n",
              "      <td>PJ</td>\n",
              "      <td>PF</td>\n",
              "      <td>SUDESTE</td>\n",
              "      <td>Nao informado</td>\n",
              "      <td>Nao se aplica</td>\n",
              "      <td>entre 30 e 39 anos</td>\n",
              "      <td>Nao disponivel</td>\n",
              "      <td>B2P</td>\n",
              "      <td>Nao disponivel</td>\n",
              "      <td>255424.33</td>\n",
              "      <td>1194</td>\n",
              "    </tr>\n",
              "    <tr>\n",
              "      <th>3</th>\n",
              "      <td>202401</td>\n",
              "      <td>PJ</td>\n",
              "      <td>PJ</td>\n",
              "      <td>SUL</td>\n",
              "      <td>NORDESTE</td>\n",
              "      <td>Nao se aplica</td>\n",
              "      <td>Nao se aplica</td>\n",
              "      <td>MANU</td>\n",
              "      <td>B2G</td>\n",
              "      <td>Pix</td>\n",
              "      <td>668315.98</td>\n",
              "      <td>77</td>\n",
              "    </tr>\n",
              "    <tr>\n",
              "      <th>4</th>\n",
              "      <td>202408</td>\n",
              "      <td>PF</td>\n",
              "      <td>PF</td>\n",
              "      <td>NORDESTE</td>\n",
              "      <td>SUL</td>\n",
              "      <td>entre 50 e 59 anos</td>\n",
              "      <td>entre 20 e 29 anos</td>\n",
              "      <td>MANU</td>\n",
              "      <td>P2P</td>\n",
              "      <td>Pix</td>\n",
              "      <td>1226112.51</td>\n",
              "      <td>8636</td>\n",
              "    </tr>\n",
              "  </tbody>\n",
              "</table>\n",
              "</div>"
            ],
            "text/plain": [
              "   AnoMes PAG_PFPJ REC_PFPJ     PAG_REGIAO     REC_REGIAO           PAG_IDADE  \\\n",
              "0  202405       PF       PJ  Nao informado        SUDESTE  entre 30 e 39 anos   \n",
              "1  202303       PF       PJ          NORTE          NORTE     mais de 60 anos   \n",
              "2  202301       PJ       PF        SUDESTE  Nao informado       Nao se aplica   \n",
              "3  202401       PJ       PJ            SUL       NORDESTE       Nao se aplica   \n",
              "4  202408       PF       PF       NORDESTE            SUL  entre 50 e 59 anos   \n",
              "\n",
              "            REC_IDADE  FORMAINICIACAO NATUREZA      FINALIDADE       VALOR  \\\n",
              "0       Nao se aplica            DICT      P2G             Pix     3384.22   \n",
              "1       Nao se aplica            QRDN      P2B       Pix Troco     7525.59   \n",
              "2  entre 30 e 39 anos  Nao disponivel      B2P  Nao disponivel   255424.33   \n",
              "3       Nao se aplica            MANU      B2G             Pix   668315.98   \n",
              "4  entre 20 e 29 anos            MANU      P2P             Pix  1226112.51   \n",
              "\n",
              "   QUANTIDADE  \n",
              "0           8  \n",
              "1          16  \n",
              "2        1194  \n",
              "3          77  \n",
              "4        8636  "
            ]
          },
          "execution_count": 9,
          "metadata": {},
          "output_type": "execute_result"
        }
      ],
      "source": [
        "dados_df.head()"
      ]
    },
    {
      "cell_type": "code",
      "execution_count": 10,
      "metadata": {},
      "outputs": [
        {
          "data": {
            "text/plain": [
              "AnoMes            0\n",
              "PAG_PFPJ          0\n",
              "REC_PFPJ          0\n",
              "PAG_REGIAO        0\n",
              "REC_REGIAO        0\n",
              "PAG_IDADE         0\n",
              "REC_IDADE         0\n",
              "FORMAINICIACAO    0\n",
              "NATUREZA          0\n",
              "FINALIDADE        0\n",
              "VALOR             0\n",
              "QUANTIDADE        0\n",
              "dtype: int64"
            ]
          },
          "execution_count": 10,
          "metadata": {},
          "output_type": "execute_result"
        }
      ],
      "source": [
        "dados_df.isnull().sum()"
      ]
    },
    {
      "cell_type": "code",
      "execution_count": 11,
      "metadata": {},
      "outputs": [
        {
          "data": {
            "text/plain": [
              "AnoMes              int64\n",
              "PAG_PFPJ           object\n",
              "REC_PFPJ           object\n",
              "PAG_REGIAO         object\n",
              "REC_REGIAO         object\n",
              "PAG_IDADE          object\n",
              "REC_IDADE          object\n",
              "FORMAINICIACAO     object\n",
              "NATUREZA           object\n",
              "FINALIDADE         object\n",
              "VALOR             float64\n",
              "QUANTIDADE          int64\n",
              "dtype: object"
            ]
          },
          "execution_count": 11,
          "metadata": {},
          "output_type": "execute_result"
        }
      ],
      "source": [
        "dados_df.dtypes"
      ]
    },
    {
      "cell_type": "code",
      "execution_count": 12,
      "metadata": {},
      "outputs": [
        {
          "name": "stdout",
          "output_type": "stream",
          "text": [
            "<class 'pandas.core.frame.DataFrame'>\n",
            "RangeIndex: 100 entries, 0 to 99\n",
            "Data columns (total 12 columns):\n",
            " #   Column          Non-Null Count  Dtype  \n",
            "---  ------          --------------  -----  \n",
            " 0   AnoMes          100 non-null    int64  \n",
            " 1   PAG_PFPJ        100 non-null    object \n",
            " 2   REC_PFPJ        100 non-null    object \n",
            " 3   PAG_REGIAO      100 non-null    object \n",
            " 4   REC_REGIAO      100 non-null    object \n",
            " 5   PAG_IDADE       100 non-null    object \n",
            " 6   REC_IDADE       100 non-null    object \n",
            " 7   FORMAINICIACAO  100 non-null    object \n",
            " 8   NATUREZA        100 non-null    object \n",
            " 9   FINALIDADE      100 non-null    object \n",
            " 10  VALOR           100 non-null    float64\n",
            " 11  QUANTIDADE      100 non-null    int64  \n",
            "dtypes: float64(1), int64(2), object(9)\n",
            "memory usage: 9.5+ KB\n"
          ]
        }
      ],
      "source": [
        "dados_df.info()"
      ]
    }
  ],
  "metadata": {
    "colab": {
      "provenance": []
    },
    "kernelspec": {
      "display_name": ".venv",
      "language": "python",
      "name": "python3"
    },
    "language_info": {
      "codemirror_mode": {
        "name": "ipython",
        "version": 3
      },
      "file_extension": ".py",
      "mimetype": "text/x-python",
      "name": "python",
      "nbconvert_exporter": "python",
      "pygments_lexer": "ipython3",
      "version": "3.12.10"
    }
  },
  "nbformat": 4,
  "nbformat_minor": 0
}
